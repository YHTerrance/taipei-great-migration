{
 "cells": [
  {
   "cell_type": "code",
   "execution_count": 1,
   "metadata": {},
   "outputs": [
    {
     "name": "stdout",
     "output_type": "stream",
     "text": [
      "['/mnt/g/Taipei_Metro/OD/202307.csv']\n"
     ]
    }
   ],
   "source": [
    "import glob\n",
    "import os\n",
    "import pandas as pd\n",
    "import numpy as np\n",
    "from dotenv import load_dotenv\n",
    "\n",
    "load_dotenv()\n",
    "\n",
    "files = glob.glob(os.getenv(\"OD_FILE\"))\n",
    "\n",
    "# Load the data from the first file in the list\n",
    "data = pd.read_csv(files[0])\n",
    "\n",
    "# Print the first few rows of the data\n",
    "data.head()\n",
    "\n",
    "print(files)"
   ]
  },
  {
   "cell_type": "code",
   "execution_count": 70,
   "metadata": {},
   "outputs": [
    {
     "data": {
      "text/plain": [
       "array(['十四張', '秀朗橋', '景平', '中和', '橋和', '中原', '板新', '新埔民生', '幸福', '新北產業園區'],\n",
       "      dtype=object)"
      ]
     },
     "execution_count": 70,
     "metadata": {},
     "output_type": "execute_result"
    }
   ],
   "source": [
    "# Basic exploratory data analysis\n",
    "\n",
    "# Number of unique values in each column\n",
    "unique_values = data.nunique()\n",
    "\n",
    "# Range of number of people\n",
    "people_range = [data['人次'].min(), data['人次'].max()]\n",
    "\n",
    "# Check for missing values\n",
    "missing_values = data.isnull().sum()\n",
    "\n",
    "unique_values, people_range, missing_values\n",
    "\n",
    "in_stations = data['進站'].unique()\n",
    "out_stations = data['出站'].unique()\n",
    "in_stations[~np.isin(in_stations, out_stations)]"
   ]
  },
  {
   "cell_type": "markdown",
   "metadata": {},
   "source": [
    "# Popular Routes"
   ]
  },
  {
   "cell_type": "code",
   "execution_count": 71,
   "metadata": {},
   "outputs": [
    {
     "data": {
      "text/html": [
       "<div>\n",
       "<style scoped>\n",
       "    .dataframe tbody tr th:only-of-type {\n",
       "        vertical-align: middle;\n",
       "    }\n",
       "\n",
       "    .dataframe tbody tr th {\n",
       "        vertical-align: top;\n",
       "    }\n",
       "\n",
       "    .dataframe thead th {\n",
       "        text-align: right;\n",
       "    }\n",
       "</style>\n",
       "<table border=\"1\" class=\"dataframe\">\n",
       "  <thead>\n",
       "    <tr style=\"text-align: right;\">\n",
       "      <th></th>\n",
       "      <th>進站</th>\n",
       "      <th>出站</th>\n",
       "      <th>人次</th>\n",
       "    </tr>\n",
       "  </thead>\n",
       "  <tbody>\n",
       "    <tr>\n",
       "      <th>11479</th>\n",
       "      <td>西門</td>\n",
       "      <td>台北車站</td>\n",
       "      <td>241775</td>\n",
       "    </tr>\n",
       "    <tr>\n",
       "      <th>3768</th>\n",
       "      <td>台北車站</td>\n",
       "      <td>西門</td>\n",
       "      <td>227823</td>\n",
       "    </tr>\n",
       "    <tr>\n",
       "      <th>3700</th>\n",
       "      <td>台北車站</td>\n",
       "      <td>台北101/世貿</td>\n",
       "      <td>170489</td>\n",
       "    </tr>\n",
       "    <tr>\n",
       "      <th>3379</th>\n",
       "      <td>台北101/世貿</td>\n",
       "      <td>台北車站</td>\n",
       "      <td>168485</td>\n",
       "    </tr>\n",
       "    <tr>\n",
       "      <th>3721</th>\n",
       "      <td>台北車站</td>\n",
       "      <td>市政府</td>\n",
       "      <td>167213</td>\n",
       "    </tr>\n",
       "    <tr>\n",
       "      <th>5647</th>\n",
       "      <td>市政府</td>\n",
       "      <td>台北車站</td>\n",
       "      <td>160577</td>\n",
       "    </tr>\n",
       "    <tr>\n",
       "      <th>6295</th>\n",
       "      <td>忠孝復興</td>\n",
       "      <td>台北車站</td>\n",
       "      <td>113398</td>\n",
       "    </tr>\n",
       "    <tr>\n",
       "      <th>3726</th>\n",
       "      <td>台北車站</td>\n",
       "      <td>忠孝復興</td>\n",
       "      <td>111564</td>\n",
       "    </tr>\n",
       "    <tr>\n",
       "      <th>787</th>\n",
       "      <td>中山</td>\n",
       "      <td>台北車站</td>\n",
       "      <td>111005</td>\n",
       "    </tr>\n",
       "    <tr>\n",
       "      <th>9751</th>\n",
       "      <td>淡水</td>\n",
       "      <td>台北車站</td>\n",
       "      <td>109325</td>\n",
       "    </tr>\n",
       "  </tbody>\n",
       "</table>\n",
       "</div>"
      ],
      "text/plain": [
       "             進站        出站      人次\n",
       "11479        西門      台北車站  241775\n",
       "3768       台北車站        西門  227823\n",
       "3700       台北車站  台北101/世貿  170489\n",
       "3379   台北101/世貿      台北車站  168485\n",
       "3721       台北車站       市政府  167213\n",
       "5647        市政府      台北車站  160577\n",
       "6295       忠孝復興      台北車站  113398\n",
       "3726       台北車站      忠孝復興  111564\n",
       "787          中山      台北車站  111005\n",
       "9751         淡水      台北車站  109325"
      ]
     },
     "execution_count": 71,
     "metadata": {},
     "output_type": "execute_result"
    }
   ],
   "source": [
    "popular_routes = data.groupby(['進站', '出站'])['人次'].sum().reset_index()\n",
    "\n",
    "# Sort the routes in descending order of the number of people\n",
    "popular_routes = popular_routes.sort_values('人次', ascending=False)\n",
    "\n",
    "# Print the top 10 most popular routes\n",
    "popular_routes.head(10)"
   ]
  },
  {
   "cell_type": "markdown",
   "metadata": {},
   "source": [
    "# Peak times"
   ]
  },
  {
   "cell_type": "code",
   "execution_count": 5,
   "metadata": {},
   "outputs": [
    {
     "data": {
      "text/html": [
       "<div>\n",
       "<style scoped>\n",
       "    .dataframe tbody tr th:only-of-type {\n",
       "        vertical-align: middle;\n",
       "    }\n",
       "\n",
       "    .dataframe tbody tr th {\n",
       "        vertical-align: top;\n",
       "    }\n",
       "\n",
       "    .dataframe thead th {\n",
       "        text-align: right;\n",
       "    }\n",
       "</style>\n",
       "<table border=\"1\" class=\"dataframe\">\n",
       "  <thead>\n",
       "    <tr style=\"text-align: right;\">\n",
       "      <th></th>\n",
       "      <th>時段</th>\n",
       "      <th>人次</th>\n",
       "    </tr>\n",
       "  </thead>\n",
       "  <tbody>\n",
       "    <tr>\n",
       "      <th>15</th>\n",
       "      <td>18</td>\n",
       "      <td>6464215</td>\n",
       "    </tr>\n",
       "    <tr>\n",
       "      <th>5</th>\n",
       "      <td>8</td>\n",
       "      <td>5805038</td>\n",
       "    </tr>\n",
       "    <tr>\n",
       "      <th>14</th>\n",
       "      <td>17</td>\n",
       "      <td>4816786</td>\n",
       "    </tr>\n",
       "    <tr>\n",
       "      <th>16</th>\n",
       "      <td>19</td>\n",
       "      <td>4472700</td>\n",
       "    </tr>\n",
       "    <tr>\n",
       "      <th>6</th>\n",
       "      <td>9</td>\n",
       "      <td>3537130</td>\n",
       "    </tr>\n",
       "    <tr>\n",
       "      <th>13</th>\n",
       "      <td>16</td>\n",
       "      <td>3297239</td>\n",
       "    </tr>\n",
       "    <tr>\n",
       "      <th>10</th>\n",
       "      <td>13</td>\n",
       "      <td>3037296</td>\n",
       "    </tr>\n",
       "    <tr>\n",
       "      <th>17</th>\n",
       "      <td>20</td>\n",
       "      <td>2921675</td>\n",
       "    </tr>\n",
       "    <tr>\n",
       "      <th>9</th>\n",
       "      <td>12</td>\n",
       "      <td>2905674</td>\n",
       "    </tr>\n",
       "    <tr>\n",
       "      <th>12</th>\n",
       "      <td>15</td>\n",
       "      <td>2860235</td>\n",
       "    </tr>\n",
       "  </tbody>\n",
       "</table>\n",
       "</div>"
      ],
      "text/plain": [
       "    時段       人次\n",
       "15  18  6464215\n",
       "5    8  5805038\n",
       "14  17  4816786\n",
       "16  19  4472700\n",
       "6    9  3537130\n",
       "13  16  3297239\n",
       "10  13  3037296\n",
       "17  20  2921675\n",
       "9   12  2905674\n",
       "12  15  2860235"
      ]
     },
     "execution_count": 5,
     "metadata": {},
     "output_type": "execute_result"
    }
   ],
   "source": [
    "peak_times = data.groupby('時段')['人次'].sum().reset_index()\n",
    "\n",
    "# Sort the time periods in descending order of the number of people\n",
    "peak_times = peak_times.sort_values('人次', ascending=False)\n",
    "\n",
    "# Print the top 10 peak travel times\n",
    "peak_times.head(10)"
   ]
  },
  {
   "cell_type": "code",
   "execution_count": 59,
   "metadata": {},
   "outputs": [
    {
     "data": {
      "text/plain": [
       "Index(['七張', '三和國中', '三民高中', '三重', '三重國小', '丹鳳', '亞東醫院', '內湖', '六張犁', '北投',\n",
       "       '南勢角', '南港', '台北橋', '唭哩岸', '圓山', '土城', '大坪林', '大湖公園', '大直', '小碧潭', '府中',\n",
       "       '後山埤', '徐匯中學', '復興崗', '文德', '新埔', '新店', '新店區公所', '新莊', '明德', '景安', '景美',\n",
       "       '木柵', '東湖', '板橋', '永安市場', '永寧', '永春', '江子翠', '海山', '淡水', '竹圍', '紅樹林',\n",
       "       '芝山', '菜寮', '萬芳社區', '萬芳醫院', '萬隆', '葫洲', '蘆洲', '輔大', '辛亥', '迴龍', '頂埔',\n",
       "       '頂溪', '頭前庄', '麟光', '龍山寺'],\n",
       "      dtype='object', name='出站')"
      ]
     },
     "execution_count": 59,
     "metadata": {},
     "output_type": "execute_result"
    }
   ],
   "source": [
    "morning_peak_hours = range(7, 10)\n",
    "evening_peak_hours = range(17, 20)\n",
    "\n",
    "# Group the data by station and time period and sum the number of people entering and exiting each station\n",
    "data_grouped = data.groupby(['進站', '出站', '時段'])['人次'].sum().reset_index()\n",
    "\n",
    "# Note: Get the intersection of the stations where people enter and exit (entry and exit stations are different in some of the data for some weird reason)\n",
    "intersection = np.intersect1d(data['進站'].unique(), data['出站'].unique())\n",
    "\n",
    "# Calculate the number of people entering and exiting each station during the morning and evening peak hours\n",
    "entry_morning = data_grouped[data_grouped['時段'].isin(morning_peak_hours)].groupby('進站')['人次'].sum()\n",
    "entry_evening = data_grouped[data_grouped['時段'].isin(evening_peak_hours)].groupby('進站')['人次'].sum()\n",
    "exit_morning = data_grouped[data_grouped['時段'].isin(morning_peak_hours)].groupby('出站')['人次'].sum()\n",
    "exit_evening = data_grouped[data_grouped['時段'].isin(evening_peak_hours)].groupby('出站')['人次'].sum()\n",
    "\n",
    "# Identify the stations that are likely to be residential areas\n",
    "residential_stations = (exit_morning[intersection] < entry_morning[intersection]) & (entry_evening[intersection] < exit_evening[intersection])\n",
    "\n",
    "# Print the stations that are likely to be residential areas\n",
    "residential_stations[residential_stations].index"
   ]
  },
  {
   "cell_type": "code",
   "execution_count": 7,
   "metadata": {},
   "outputs": [
    {
     "data": {
      "text/plain": [
       "array(['松山機場', '中山國中', '南京復興', '忠孝復興', '大安', '科技大樓', '六張犁', '麟光', '辛亥',\n",
       "       '萬芳醫院', '萬芳社區', '木柵', '動物園', '大直', '劍南路', '西湖', '港墘', '文德', '內湖',\n",
       "       '大湖公園', '葫洲', '東湖', '南港軟體園區', '南港展覽館', '小碧潭', '新店', '新店區公所', '七張',\n",
       "       '大坪林', '景美', '萬隆', '公館', '台電大樓', '古亭', '中正紀念堂', '小南門', '頂溪',\n",
       "       '永安市場', '景安', '南勢角', '台大醫院', '台北車站', '中山', '雙連', '民權西路', '圓山',\n",
       "       '劍潭', '士林', '芝山', '明德', '石牌', '唭哩岸', '奇岩', '北投', '新北投', '復興崗',\n",
       "       '忠義', '關渡', '竹圍', '紅樹林', '淡水', '頂埔', '永寧', '土城', '海山', '亞東醫院',\n",
       "       '府中', 'BL板橋', '新埔', '江子翠', '龍山寺', '西門', '善導寺', '忠孝新生', '忠孝敦化',\n",
       "       '國父紀念館', '市政府', '永春', '後山埤', '昆陽', '南港', '象山', '台北101/世貿', '信義安和',\n",
       "       '大安森林公園', '北門', '松江南京', '台北小巨蛋', '南京三民', '松山', '輔大', '新莊', '頭前庄',\n",
       "       '先嗇宮', '三重', '菜寮', '台北橋', '大橋頭站', '中山國小', '行天宮', '東門', '蘆洲',\n",
       "       '三民高中', '徐匯中學', '三和國中', '三重國小', '迴龍', '丹鳳', '十四張', '秀朗橋', '景平',\n",
       "       '中和', '橋和', '中原', '板新', 'Y板橋', '新埔民生', '幸福', '新北產業園區'],\n",
       "      dtype=object)"
      ]
     },
     "execution_count": 7,
     "metadata": {},
     "output_type": "execute_result"
    }
   ],
   "source": [
    "data['進站'].unique()\n"
   ]
  },
  {
   "cell_type": "code",
   "execution_count": 8,
   "metadata": {},
   "outputs": [
    {
     "data": {
      "text/plain": [
       "Index(['中山', '中山國中', '中山國小', '中正紀念堂', '信義安和', '先嗇宮', '公館', '劍南路', '北門', '南京三民',\n",
       "       '南京復興', '南港展覽館', '南港軟體園區', '古亭', '台北101/世貿', '台北小巨蛋', '台大醫院', '台電大樓',\n",
       "       '善導寺', '國父紀念館', '大安', '大安森林公園', '小南門', '市政府', '忠孝復興', '忠孝敦化', '忠孝新生',\n",
       "       '忠義', '新北投', '昆陽', '東門', '松山機場', '松江南京', '民權西路', '港墘', '科技大樓', '行天宮',\n",
       "       '西湖', '象山', '關渡', '雙連'],\n",
       "      dtype='object', name='進站')"
      ]
     },
     "execution_count": 8,
     "metadata": {},
     "output_type": "execute_result"
    }
   ],
   "source": [
    "# Identify the stations that are likely to be commercial areas\n",
    "commercial_stations = (entry_morning[intersection] < exit_morning[intersection]) & (exit_evening[intersection] < entry_evening[intersection])\n",
    "\n",
    "# Print the stations that are likely to be commercial areas\n",
    "commercial_stations[commercial_stations].index"
   ]
  },
  {
   "cell_type": "code",
   "execution_count": 9,
   "metadata": {},
   "outputs": [
    {
     "data": {
      "text/plain": [
       "時段\n",
       "0      351907\n",
       "1       10175\n",
       "5        1224\n",
       "6      749280\n",
       "7     2665405\n",
       "8     5805038\n",
       "9     3537130\n",
       "10    2603057\n",
       "11    2739471\n",
       "12    2905674\n",
       "13    3037296\n",
       "14    2836674\n",
       "15    2860235\n",
       "16    3297239\n",
       "17    4816786\n",
       "18    6464215\n",
       "19    4472700\n",
       "20    2921675\n",
       "21    2748423\n",
       "22    2209934\n",
       "23     950993\n",
       "Name: 人次, dtype: int64"
      ]
     },
     "execution_count": 9,
     "metadata": {},
     "output_type": "execute_result"
    }
   ],
   "source": [
    "# Group the data by hour and calculate the total number of people traveling each hour\n",
    "hourly_travel_pattern = data.groupby('時段')['人次'].sum()\n",
    "\n",
    "# Print the hourly travel pattern\n",
    "hourly_travel_pattern"
   ]
  },
  {
   "cell_type": "markdown",
   "metadata": {},
   "source": [
    "# Visualizations"
   ]
  },
  {
   "cell_type": "code",
   "execution_count": 10,
   "metadata": {},
   "outputs": [],
   "source": [
    "import matplotlib.font_manager as font_manager\n",
    "font_dirs = ['fonts/']\n",
    "font_files = font_manager.findSystemFonts(fontpaths=font_dirs)\n",
    "for font_file in font_files:\n",
    "    font_manager.fontManager.addfont(font_file)\n",
    "    \n",
    "import matplotlib.pyplot as plt\n",
    "plt.rcParams['font.family'] = 'Noto Sans TC'"
   ]
  },
  {
   "cell_type": "code",
   "execution_count": 11,
   "metadata": {},
   "outputs": [
    {
     "data": {
      "image/png": "[encoded data removed]",
      "text/plain": [
       "<Figure size 1000x600 with 1 Axes>"
      ]
     },
     "metadata": {},
     "output_type": "display_data"
    }
   ],
   "source": [
    "import matplotlib.pyplot as plt\n",
    "\n",
    "# Group the data by date and calculate the total number of people for each date\n",
    "daily_data = data.groupby('日期')['人次'].sum()\n",
    "\n",
    "# Plot the daily trend\n",
    "plt.figure(figsize=(10, 6))\n",
    "plt.plot(daily_data)\n",
    "plt.xlabel('Date')\n",
    "plt.xticks(rotation='vertical', fontsize=8)\n",
    "plt.ylabel('Number of People')\n",
    "plt.title('Daily Trend')\n",
    "plt.grid(True)\n",
    "plt.show()"
   ]
  },
  {
   "cell_type": "code",
   "execution_count": 12,
   "metadata": {},
   "outputs": [
    {
     "data": {
      "image/png": "[encoded data removed]",
      "text/plain": [
       "<Figure size 1000x600 with 1 Axes>"
      ]
     },
     "metadata": {},
     "output_type": "display_data"
    }
   ],
   "source": [
    "# Group the data by time period and calculate the total number of people for each time period\n",
    "hourly_data = data.groupby('時段')['人次'].sum()\n",
    "\n",
    "# Plot the hourly trend\n",
    "plt.figure(figsize=(10, 6))\n",
    "plt.plot(hourly_data)\n",
    "plt.xlabel('Time Period')\n",
    "plt.ylabel('Number of People')\n",
    "plt.title('Hourly Trend')\n",
    "plt.grid(True)\n",
    "plt.show()"
   ]
  },
  {
   "cell_type": "code",
   "execution_count": 13,
   "metadata": {},
   "outputs": [
    {
     "data": {
      "image/png": "[encoded data removed]",
      "text/plain": [
       "<Figure size 1000x600 with 1 Axes>"
      ]
     },
     "metadata": {},
     "output_type": "display_data"
    }
   ],
   "source": [
    "# Group the data by entry station and calculate the total number of people for each station\n",
    "station_data = data.groupby('進站')['人次'].sum()\n",
    "\n",
    "# Sort the stations by total number of people and select the top 10\n",
    "top_stations = station_data.sort_values(ascending=False).head(10)\n",
    "\n",
    "# Plot the top 10 stations\n",
    "plt.figure(figsize=(10, 6))\n",
    "top_stations.plot(kind='bar')\n",
    "plt.xlabel('Station')\n",
    "plt.ylabel('Number of People')\n",
    "plt.title('Top 10 Stations')\n",
    "plt.grid(True)\n",
    "plt.show()"
   ]
  },
  {
   "cell_type": "code",
   "execution_count": 14,
   "metadata": {},
   "outputs": [
    {
     "data": {
      "text/plain": [
       "進站\n",
       "BL板橋    1113265\n",
       "Y板橋       63970\n",
       "七張       400153\n",
       "三和國中     331266\n",
       "三民高中     309328\n",
       "         ...   \n",
       "頂埔       252001\n",
       "頂溪       906051\n",
       "頭前庄      133377\n",
       "麟光       117864\n",
       "龍山寺      770497\n",
       "Name: 人次, Length: 119, dtype: int64"
      ]
     },
     "execution_count": 14,
     "metadata": {},
     "output_type": "execute_result"
    }
   ],
   "source": [
    "data.groupby('進站')['人次'].sum()"
   ]
  },
  {
   "cell_type": "code",
   "execution_count": 15,
   "metadata": {},
   "outputs": [
    {
     "data": {
      "text/plain": [
       "出站\n",
       "BL板橋    1207350\n",
       "G大坪林     516363\n",
       "O景安      573641\n",
       "O頭前庄     123168\n",
       "七張       423236\n",
       "         ...   \n",
       "雙連       630012\n",
       "頂埔       243997\n",
       "頂溪       940973\n",
       "麟光       112242\n",
       "龍山寺      754673\n",
       "Name: 人次, Length: 108, dtype: int64"
      ]
     },
     "execution_count": 15,
     "metadata": {},
     "output_type": "execute_result"
    }
   ],
   "source": [
    "data.groupby('出站')['人次'].sum()\n"
   ]
  },
  {
   "cell_type": "code",
   "execution_count": 17,
   "metadata": {},
   "outputs": [
    {
     "data": {
      "text/html": [
       "<div>\n",
       "<style scoped>\n",
       "    .dataframe tbody tr th:only-of-type {\n",
       "        vertical-align: middle;\n",
       "    }\n",
       "\n",
       "    .dataframe tbody tr th {\n",
       "        vertical-align: top;\n",
       "    }\n",
       "\n",
       "    .dataframe thead th {\n",
       "        text-align: right;\n",
       "    }\n",
       "</style>\n",
       "<table border=\"1\" class=\"dataframe\">\n",
       "  <thead>\n",
       "    <tr style=\"text-align: right;\">\n",
       "      <th></th>\n",
       "      <th>進站</th>\n",
       "      <th>出站</th>\n",
       "      <th>人次</th>\n",
       "    </tr>\n",
       "  </thead>\n",
       "  <tbody>\n",
       "    <tr>\n",
       "      <th>0</th>\n",
       "      <td>BL板橋</td>\n",
       "      <td>BL板橋</td>\n",
       "      <td>5880</td>\n",
       "    </tr>\n",
       "    <tr>\n",
       "      <th>1</th>\n",
       "      <td>BL板橋</td>\n",
       "      <td>G大坪林</td>\n",
       "      <td>2006</td>\n",
       "    </tr>\n",
       "    <tr>\n",
       "      <th>2</th>\n",
       "      <td>BL板橋</td>\n",
       "      <td>O景安</td>\n",
       "      <td>750</td>\n",
       "    </tr>\n",
       "    <tr>\n",
       "      <th>3</th>\n",
       "      <td>BL板橋</td>\n",
       "      <td>O頭前庄</td>\n",
       "      <td>0</td>\n",
       "    </tr>\n",
       "    <tr>\n",
       "      <th>4</th>\n",
       "      <td>BL板橋</td>\n",
       "      <td>七張</td>\n",
       "      <td>2833</td>\n",
       "    </tr>\n",
       "    <tr>\n",
       "      <th>...</th>\n",
       "      <td>...</td>\n",
       "      <td>...</td>\n",
       "      <td>...</td>\n",
       "    </tr>\n",
       "    <tr>\n",
       "      <th>12847</th>\n",
       "      <td>龍山寺</td>\n",
       "      <td>雙連</td>\n",
       "      <td>9056</td>\n",
       "    </tr>\n",
       "    <tr>\n",
       "      <th>12848</th>\n",
       "      <td>龍山寺</td>\n",
       "      <td>頂埔</td>\n",
       "      <td>6291</td>\n",
       "    </tr>\n",
       "    <tr>\n",
       "      <th>12849</th>\n",
       "      <td>龍山寺</td>\n",
       "      <td>頂溪</td>\n",
       "      <td>6997</td>\n",
       "    </tr>\n",
       "    <tr>\n",
       "      <th>12850</th>\n",
       "      <td>龍山寺</td>\n",
       "      <td>麟光</td>\n",
       "      <td>1179</td>\n",
       "    </tr>\n",
       "    <tr>\n",
       "      <th>12851</th>\n",
       "      <td>龍山寺</td>\n",
       "      <td>龍山寺</td>\n",
       "      <td>7767</td>\n",
       "    </tr>\n",
       "  </tbody>\n",
       "</table>\n",
       "<p>12852 rows × 3 columns</p>\n",
       "</div>"
      ],
      "text/plain": [
       "         進站    出站    人次\n",
       "0      BL板橋  BL板橋  5880\n",
       "1      BL板橋  G大坪林  2006\n",
       "2      BL板橋   O景安   750\n",
       "3      BL板橋  O頭前庄     0\n",
       "4      BL板橋    七張  2833\n",
       "...     ...   ...   ...\n",
       "12847   龍山寺    雙連  9056\n",
       "12848   龍山寺    頂埔  6291\n",
       "12849   龍山寺    頂溪  6997\n",
       "12850   龍山寺    麟光  1179\n",
       "12851   龍山寺   龍山寺  7767\n",
       "\n",
       "[12852 rows x 3 columns]"
      ]
     },
     "execution_count": 17,
     "metadata": {},
     "output_type": "execute_result"
    }
   ],
   "source": [
    "data.groupby(['進站', '出站'])['人次'].sum().reset_index()"
   ]
  },
  {
   "cell_type": "code",
   "execution_count": 48,
   "metadata": {},
   "outputs": [
    {
     "data": {
      "text/plain": [
       "{'出站': ['BL板橋',\n",
       "  'G大坪林',\n",
       "  'O景安',\n",
       "  'O頭前庄',\n",
       "  '七張',\n",
       "  '三和國中',\n",
       "  '三民高中',\n",
       "  '三重',\n",
       "  '三重國小',\n",
       "  '中山',\n",
       "  '中山國中',\n",
       "  '中山國小',\n",
       "  '中正紀念堂',\n",
       "  '丹鳳',\n",
       "  '亞東醫院',\n",
       "  '信義安和',\n",
       "  '先嗇宮',\n",
       "  '內湖',\n",
       "  '公館',\n",
       "  '六張犁',\n",
       "  '劍南路',\n",
       "  '劍潭',\n",
       "  '動物園',\n",
       "  '北投',\n",
       "  '北門',\n",
       "  '南京三民',\n",
       "  '南京復興',\n",
       "  '南勢角',\n",
       "  '南港',\n",
       "  '南港展覽館',\n",
       "  '南港軟體園區',\n",
       "  '古亭',\n",
       "  '台北101/世貿',\n",
       "  '台北小巨蛋',\n",
       "  '台北橋',\n",
       "  '台北車站',\n",
       "  '台大醫院',\n",
       "  '台電大樓',\n",
       "  '唭哩岸',\n",
       "  '善導寺',\n",
       "  '國父紀念館',\n",
       "  '圓山',\n",
       "  '土城',\n",
       "  '士林',\n",
       "  '大安',\n",
       "  '大安森林公園',\n",
       "  '大橋頭站',\n",
       "  '大湖公園',\n",
       "  '大直',\n",
       "  '奇岩',\n",
       "  '小南門',\n",
       "  '小碧潭',\n",
       "  '市政府',\n",
       "  '府中',\n",
       "  '後山埤',\n",
       "  '徐匯中學',\n",
       "  '復興崗',\n",
       "  '忠孝復興',\n",
       "  '忠孝敦化',\n",
       "  '忠孝新生',\n",
       "  '忠義',\n",
       "  '文德',\n",
       "  '新北投',\n",
       "  '新埔',\n",
       "  '新店',\n",
       "  '新店區公所',\n",
       "  '新莊',\n",
       "  '昆陽',\n",
       "  '明德',\n",
       "  '景美',\n",
       "  '木柵',\n",
       "  '東湖',\n",
       "  '東門',\n",
       "  '松山',\n",
       "  '松山機場',\n",
       "  '松江南京',\n",
       "  '民權西路',\n",
       "  '永安市場',\n",
       "  '永寧',\n",
       "  '永春',\n",
       "  '江子翠',\n",
       "  '海山',\n",
       "  '淡水',\n",
       "  '港墘',\n",
       "  '石牌',\n",
       "  '科技大樓',\n",
       "  '竹圍',\n",
       "  '紅樹林',\n",
       "  '芝山',\n",
       "  '菜寮',\n",
       "  '萬芳社區',\n",
       "  '萬芳醫院',\n",
       "  '萬隆',\n",
       "  '葫洲',\n",
       "  '蘆洲',\n",
       "  '行天宮',\n",
       "  '西湖',\n",
       "  '西門',\n",
       "  '象山',\n",
       "  '輔大',\n",
       "  '辛亥',\n",
       "  '迴龍',\n",
       "  '關渡',\n",
       "  '雙連',\n",
       "  '頂埔',\n",
       "  '頂溪',\n",
       "  '麟光',\n",
       "  '龍山寺'],\n",
       " '人次': [1360,\n",
       "  1811,\n",
       "  909,\n",
       "  305,\n",
       "  819,\n",
       "  143,\n",
       "  253,\n",
       "  438,\n",
       "  276,\n",
       "  3662,\n",
       "  191,\n",
       "  782,\n",
       "  2832,\n",
       "  211,\n",
       "  732,\n",
       "  3326,\n",
       "  811,\n",
       "  40,\n",
       "  1810,\n",
       "  699,\n",
       "  64,\n",
       "  3124,\n",
       "  164,\n",
       "  3464,\n",
       "  873,\n",
       "  2575,\n",
       "  4678,\n",
       "  354,\n",
       "  481,\n",
       "  1666,\n",
       "  416,\n",
       "  2198,\n",
       "  4961,\n",
       "  3152,\n",
       "  461,\n",
       "  17171,\n",
       "  5537,\n",
       "  862,\n",
       "  945,\n",
       "  1675,\n",
       "  1245,\n",
       "  6407,\n",
       "  155,\n",
       "  4123,\n",
       "  2745,\n",
       "  972,\n",
       "  556,\n",
       "  23,\n",
       "  33,\n",
       "  2317,\n",
       "  796,\n",
       "  58,\n",
       "  3363,\n",
       "  578,\n",
       "  320,\n",
       "  161,\n",
       "  662,\n",
       "  1317,\n",
       "  1591,\n",
       "  1856,\n",
       "  1161,\n",
       "  16,\n",
       "  1026,\n",
       "  754,\n",
       "  338,\n",
       "  434,\n",
       "  400,\n",
       "  919,\n",
       "  942,\n",
       "  568,\n",
       "  111,\n",
       "  41,\n",
       "  1649,\n",
       "  1869,\n",
       "  124,\n",
       "  4102,\n",
       "  4832,\n",
       "  605,\n",
       "  453,\n",
       "  664,\n",
       "  774,\n",
       "  309,\n",
       "  2699,\n",
       "  329,\n",
       "  1055,\n",
       "  642,\n",
       "  1360,\n",
       "  1679,\n",
       "  3223,\n",
       "  522,\n",
       "  49,\n",
       "  332,\n",
       "  259,\n",
       "  26,\n",
       "  212,\n",
       "  3311,\n",
       "  202,\n",
       "  1985,\n",
       "  2517,\n",
       "  379,\n",
       "  66,\n",
       "  344,\n",
       "  3388,\n",
       "  4137,\n",
       "  290,\n",
       "  959,\n",
       "  109,\n",
       "  1057]}"
      ]
     },
     "execution_count": 48,
     "metadata": {},
     "output_type": "execute_result"
    }
   ],
   "source": [
    "start_time = 7\n",
    "end_time = 10\n",
    "start_station = \"石牌\"\n",
    "\n",
    "fil = (data[\"進站\"] == start_station) & (data[\"時段\"] >= start_time) & (data[\"時段\"] < end_time)\n",
    "output = data.loc[fil, :].groupby(['出站'])['人次'].sum().reset_index()\n",
    "output.to_dict('list')"
   ]
  },
  {
   "cell_type": "code",
   "execution_count": 55,
   "metadata": {},
   "outputs": [
    {
     "data": {
      "text/plain": [
       "array(['松山機場', '中山國中', '南京復興', '忠孝復興', '大安', '科技大樓', '六張犁', '麟光', '辛亥',\n",
       "       '萬芳醫院', '萬芳社區', '木柵', '動物園', '大直', '劍南路', '西湖', '港墘', '文德', '內湖',\n",
       "       '大湖公園', '葫洲', '東湖', '南港軟體園區', '南港展覽館', '小碧潭', '新店', '新店區公所', '七張',\n",
       "       'G大坪林', '景美', '萬隆', '公館', '台電大樓', '古亭', '中正紀念堂', '小南門', '頂溪',\n",
       "       '永安市場', 'O景安', '南勢角', '台大醫院', '台北車站', '中山', '雙連', '民權西路', '圓山',\n",
       "       '劍潭', '士林', '芝山', '明德', '石牌', '唭哩岸', '奇岩', '北投', '新北投', '復興崗',\n",
       "       '忠義', '關渡', '竹圍', '紅樹林', '淡水', '頂埔', '永寧', '土城', '海山', '亞東醫院',\n",
       "       '府中', 'BL板橋', '新埔', '江子翠', '龍山寺', '西門', '善導寺', '忠孝新生', '忠孝敦化',\n",
       "       '國父紀念館', '市政府', '永春', '後山埤', '昆陽', '南港', '象山', '台北101/世貿', '信義安和',\n",
       "       '大安森林公園', '北門', '松江南京', '台北小巨蛋', '南京三民', '松山', '輔大', '新莊', 'O頭前庄',\n",
       "       '先嗇宮', '三重', '菜寮', '台北橋', '大橋頭站', '中山國小', '行天宮', '東門', '蘆洲',\n",
       "       '三民高中', '徐匯中學', '三和國中', '三重國小', '迴龍', '丹鳳'], dtype=object)"
      ]
     },
     "execution_count": 55,
     "metadata": {},
     "output_type": "execute_result"
    }
   ],
   "source": [
    "data['出站'].unique()"
   ]
  },
  {
   "cell_type": "markdown",
   "metadata": {},
   "source": [
    "# Save Data"
   ]
  },
  {
   "cell_type": "code",
   "execution_count": 5,
   "metadata": {},
   "outputs": [],
   "source": [
    "import sqlite3\n",
    "\n",
    "# Preprocessing\n",
    "\n",
    "data = data.replace('O景安','景安')\n",
    "data = data.replace('BL板橋','板橋')\n",
    "data = data.replace('Y板橋','板橋')\n",
    "data = data.replace('G大坪林','大坪林')\n",
    "data = data.replace('O頭前庄','頭前庄')\n",
    "\n",
    "# Save file\n",
    "# data.to_csv(os.getenv(\"OD_FILE\"), index=False, encoding='utf-8')\n",
    "\n",
    "db_name = os.path.splitext(os.path.basename(files[0]))[0]\n",
    "\n",
    "conn = sqlite3.connect(db_name + '.sqlite')\n",
    "\n",
    "data.to_sql(db_name, conn, if_exists='replace', index=False)\n",
    "\n",
    "conn.close()"
   ]
  }
 ],
 "metadata": {
  "kernelspec": {
   "display_name": "Python 3 (ipykernel)",
   "language": "python",
   "name": "python3"
  },
  "language_info": {
   "codemirror_mode": {
    "name": "ipython",
    "version": 3
   },
   "file_extension": ".py",
   "mimetype": "text/x-python",
   "name": "python",
   "nbconvert_exporter": "python",
   "pygments_lexer": "ipython3",
   "version": "3.11.5"
  },
  "orig_nbformat": 4
 },
 "nbformat": 4,
 "nbformat_minor": 2
}
